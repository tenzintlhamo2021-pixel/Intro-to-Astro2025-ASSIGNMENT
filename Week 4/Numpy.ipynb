{
 "cells": [
  {
   "cell_type": "code",
   "execution_count": null,
   "id": "f984b941-3bef-4567-9e9d-e68ce3c8f28d",
   "metadata": {},
   "outputs": [],
   "source": []
  }
 ],
 "metadata": {
  "kernelspec": {
   "display_name": "",
   "name": ""
  },
  "language_info": {
   "name": ""
  }
 },
 "nbformat": 4,
 "nbformat_minor": 5
}
